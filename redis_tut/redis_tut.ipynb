{
 "cells": [
  {
   "cell_type": "code",
   "execution_count": 1,
   "metadata": {},
   "outputs": [],
   "source": [
    "import random\n",
    "import redis\n",
    "import logging"
   ]
  },
  {
   "cell_type": "code",
   "execution_count": 2,
   "metadata": {},
   "outputs": [],
   "source": [
    "random.seed(444)\n",
    "hats = {f\"hat:{random.getrandbits(32)}\": i for i in (\n",
    "    {\n",
    "        \"color\": \"black\",\n",
    "        \"price\": 49.99,\n",
    "        \"style\": \"fitted\",\n",
    "        \"quantity\": 1000,\n",
    "        \"npurchased\": 0,\n",
    "    },\n",
    "    {\n",
    "        \"color\": \"maroon\",\n",
    "        \"price\": 59.99,\n",
    "        \"style\": \"hipster\",\n",
    "        \"quantity\": 500,\n",
    "        \"npurchased\": 0,\n",
    "    },\n",
    "    {\n",
    "        \"color\": \"green\",\n",
    "        \"price\": 99.99,\n",
    "        \"style\": \"baseball\",\n",
    "        \"quantity\": 200,\n",
    "        \"npurchased\": 0,\n",
    "    })\n",
    "}"
   ]
  },
  {
   "cell_type": "code",
   "execution_count": 3,
   "metadata": {},
   "outputs": [],
   "source": [
    "logging.basicConfig()"
   ]
  },
  {
   "cell_type": "code",
   "execution_count": 4,
   "metadata": {},
   "outputs": [],
   "source": [
    "class OutOfStockError(Exception):\n",
    "    \"\"\"Raised when PyHats.com is all out of today's hottest hat\"\"\"\n",
    "\n",
    "\n",
    "def buyitem(r: redis.Redis, itemid: int) -> None:\n",
    "    with r.pipeline() as pipe:\n",
    "        error_count = 0\n",
    "        while True:\n",
    "            try:\n",
    "                # Get available inventory, watching for changes\n",
    "                # related to this itemid before the transaction\n",
    "                pipe.watch(itemid)\n",
    "                nleft: bytes = r.hget(itemid, \"quantity\")\n",
    "                if nleft > b\"0\":\n",
    "                    pipe.multi()\n",
    "                    pipe.hincrby(itemid, \"quantity\", -1)\n",
    "                    pipe.hincrby(itemid, \"npurchased\", 1)\n",
    "                    pipe.execute()\n",
    "                    break\n",
    "                else:\n",
    "                    # Stop watching the itemid and raise to break out\n",
    "                    pipe.unwatch()\n",
    "                    raise OutOfStockError(f\"Sorry, {itemid} is out of stock!\")\n",
    "            except redis.WatchError:\n",
    "                # Stop watching the itemid and raise to break out\n",
    "                error_count += 1\n",
    "                logging.warning(\"WatchError #%d: %s; retrying\", error_count, itemid)\n",
    "\n",
    "    return None"
   ]
  },
  {
   "cell_type": "code",
   "execution_count": 29,
   "metadata": {},
   "outputs": [],
   "source": [
    "r = redis.Redis(host='127.0.0.1', port='6379', db=1)"
   ]
  },
  {
   "cell_type": "code",
   "execution_count": 6,
   "metadata": {},
   "outputs": [
    {
     "data": {
      "text/plain": [
       "Redis<ConnectionPool<Connection<host=127.0.0.1,port=6379,db=1>>>"
      ]
     },
     "execution_count": 6,
     "metadata": {},
     "output_type": "execute_result"
    }
   ],
   "source": [
    "r"
   ]
  },
  {
   "cell_type": "code",
   "execution_count": 7,
   "metadata": {},
   "outputs": [
    {
     "data": {
      "text/plain": [
       "[b'hat:1236154736', b'hat:56854717', b'hat:1326692461']"
      ]
     },
     "execution_count": 7,
     "metadata": {},
     "output_type": "execute_result"
    }
   ],
   "source": [
    "r.keys()"
   ]
  },
  {
   "cell_type": "code",
   "execution_count": 8,
   "metadata": {},
   "outputs": [],
   "source": [
    "buyitem(r, \"hat:56854717\")"
   ]
  },
  {
   "cell_type": "code",
   "execution_count": 9,
   "metadata": {},
   "outputs": [
    {
     "data": {
      "text/plain": [
       "[b'198', b'1']"
      ]
     },
     "execution_count": 9,
     "metadata": {},
     "output_type": "execute_result"
    }
   ],
   "source": [
    "r.hmget(\"hat:56854717\", \"quantity\", \"npurchased\")"
   ]
  },
  {
   "cell_type": "code",
   "execution_count": 10,
   "metadata": {},
   "outputs": [],
   "source": [
    "from datetime import timedelta"
   ]
  },
  {
   "cell_type": "code",
   "execution_count": 11,
   "metadata": {},
   "outputs": [
    {
     "data": {
      "text/plain": [
       "True"
      ]
     },
     "execution_count": 11,
     "metadata": {},
     "output_type": "execute_result"
    }
   ],
   "source": [
    "r.setex(\"runner\", timedelta(minutes=1), value=\"now you see me, now you don't\")"
   ]
  },
  {
   "cell_type": "code",
   "execution_count": 24,
   "metadata": {},
   "outputs": [
    {
     "data": {
      "text/plain": [
       "-2"
      ]
     },
     "execution_count": 24,
     "metadata": {},
     "output_type": "execute_result"
    }
   ],
   "source": [
    "r.ttl(\"runner\")"
   ]
  },
  {
   "cell_type": "code",
   "execution_count": 26,
   "metadata": {},
   "outputs": [],
   "source": [
    "r.get(\"runner\")"
   ]
  },
  {
   "cell_type": "code",
   "execution_count": 27,
   "metadata": {},
   "outputs": [
    {
     "ename": "KeyboardInterrupt",
     "evalue": "",
     "output_type": "error",
     "traceback": [
      "\u001b[0;31m---------------------------------------------------------------------------\u001b[0m",
      "\u001b[0;31mKeyboardInterrupt\u001b[0m                         Traceback (most recent call last)",
      "\u001b[0;32m<ipython-input-27-48b67f6e7007>\u001b[0m in \u001b[0;36m<module>\u001b[0;34m\u001b[0m\n\u001b[1;32m     14\u001b[0m \u001b[0;34m\u001b[0m\u001b[0m\n\u001b[1;32m     15\u001b[0m \u001b[0;32mwhile\u001b[0m \u001b[0;32mTrue\u001b[0m\u001b[0;34m:\u001b[0m\u001b[0;34m\u001b[0m\u001b[0;34m\u001b[0m\u001b[0m\n\u001b[0;32m---> 16\u001b[0;31m     \u001b[0m_\u001b[0m\u001b[0;34m,\u001b[0m \u001b[0maddr\u001b[0m \u001b[0;34m=\u001b[0m \u001b[0mipwatcher\u001b[0m\u001b[0;34m.\u001b[0m\u001b[0mblpop\u001b[0m\u001b[0;34m(\u001b[0m\u001b[0;34m\"ips\"\u001b[0m\u001b[0;34m)\u001b[0m\u001b[0;34m\u001b[0m\u001b[0;34m\u001b[0m\u001b[0m\n\u001b[0m\u001b[1;32m     17\u001b[0m     \u001b[0maddr\u001b[0m \u001b[0;34m=\u001b[0m \u001b[0mipaddress\u001b[0m\u001b[0;34m.\u001b[0m\u001b[0mip_address\u001b[0m\u001b[0;34m(\u001b[0m\u001b[0maddr\u001b[0m\u001b[0;34m.\u001b[0m\u001b[0mdecode\u001b[0m\u001b[0;34m(\u001b[0m\u001b[0;34m\"utf-8\"\u001b[0m\u001b[0;34m)\u001b[0m\u001b[0;34m)\u001b[0m\u001b[0;34m\u001b[0m\u001b[0;34m\u001b[0m\u001b[0m\n\u001b[1;32m     18\u001b[0m     \u001b[0mnow\u001b[0m \u001b[0;34m=\u001b[0m \u001b[0mdatetime\u001b[0m\u001b[0;34m.\u001b[0m\u001b[0mdatetime\u001b[0m\u001b[0;34m.\u001b[0m\u001b[0mutcnow\u001b[0m\u001b[0;34m(\u001b[0m\u001b[0;34m)\u001b[0m\u001b[0;34m\u001b[0m\u001b[0;34m\u001b[0m\u001b[0m\n",
      "\u001b[0;32m~/anaconda/envs/rp/lib/python3.7/site-packages/redis/client.py\u001b[0m in \u001b[0;36mblpop\u001b[0;34m(self, keys, timeout)\u001b[0m\n\u001b[1;32m   1869\u001b[0m         \u001b[0mkeys\u001b[0m \u001b[0;34m=\u001b[0m \u001b[0mlist_or_args\u001b[0m\u001b[0;34m(\u001b[0m\u001b[0mkeys\u001b[0m\u001b[0;34m,\u001b[0m \u001b[0;32mNone\u001b[0m\u001b[0;34m)\u001b[0m\u001b[0;34m\u001b[0m\u001b[0;34m\u001b[0m\u001b[0m\n\u001b[1;32m   1870\u001b[0m         \u001b[0mkeys\u001b[0m\u001b[0;34m.\u001b[0m\u001b[0mappend\u001b[0m\u001b[0;34m(\u001b[0m\u001b[0mtimeout\u001b[0m\u001b[0;34m)\u001b[0m\u001b[0;34m\u001b[0m\u001b[0;34m\u001b[0m\u001b[0m\n\u001b[0;32m-> 1871\u001b[0;31m         \u001b[0;32mreturn\u001b[0m \u001b[0mself\u001b[0m\u001b[0;34m.\u001b[0m\u001b[0mexecute_command\u001b[0m\u001b[0;34m(\u001b[0m\u001b[0;34m'BLPOP'\u001b[0m\u001b[0;34m,\u001b[0m \u001b[0;34m*\u001b[0m\u001b[0mkeys\u001b[0m\u001b[0;34m)\u001b[0m\u001b[0;34m\u001b[0m\u001b[0;34m\u001b[0m\u001b[0m\n\u001b[0m\u001b[1;32m   1872\u001b[0m \u001b[0;34m\u001b[0m\u001b[0m\n\u001b[1;32m   1873\u001b[0m     \u001b[0;32mdef\u001b[0m \u001b[0mbrpop\u001b[0m\u001b[0;34m(\u001b[0m\u001b[0mself\u001b[0m\u001b[0;34m,\u001b[0m \u001b[0mkeys\u001b[0m\u001b[0;34m,\u001b[0m \u001b[0mtimeout\u001b[0m\u001b[0;34m=\u001b[0m\u001b[0;36m0\u001b[0m\u001b[0;34m)\u001b[0m\u001b[0;34m:\u001b[0m\u001b[0;34m\u001b[0m\u001b[0;34m\u001b[0m\u001b[0m\n",
      "\u001b[0;32m~/anaconda/envs/rp/lib/python3.7/site-packages/redis/client.py\u001b[0m in \u001b[0;36mexecute_command\u001b[0;34m(self, *args, **options)\u001b[0m\n\u001b[1;32m    882\u001b[0m         \u001b[0;32mtry\u001b[0m\u001b[0;34m:\u001b[0m\u001b[0;34m\u001b[0m\u001b[0;34m\u001b[0m\u001b[0m\n\u001b[1;32m    883\u001b[0m             \u001b[0mconn\u001b[0m\u001b[0;34m.\u001b[0m\u001b[0msend_command\u001b[0m\u001b[0;34m(\u001b[0m\u001b[0;34m*\u001b[0m\u001b[0margs\u001b[0m\u001b[0;34m)\u001b[0m\u001b[0;34m\u001b[0m\u001b[0;34m\u001b[0m\u001b[0m\n\u001b[0;32m--> 884\u001b[0;31m             \u001b[0;32mreturn\u001b[0m \u001b[0mself\u001b[0m\u001b[0;34m.\u001b[0m\u001b[0mparse_response\u001b[0m\u001b[0;34m(\u001b[0m\u001b[0mconn\u001b[0m\u001b[0;34m,\u001b[0m \u001b[0mcommand_name\u001b[0m\u001b[0;34m,\u001b[0m \u001b[0;34m**\u001b[0m\u001b[0moptions\u001b[0m\u001b[0;34m)\u001b[0m\u001b[0;34m\u001b[0m\u001b[0;34m\u001b[0m\u001b[0m\n\u001b[0m\u001b[1;32m    885\u001b[0m         \u001b[0;32mexcept\u001b[0m \u001b[0;34m(\u001b[0m\u001b[0mConnectionError\u001b[0m\u001b[0;34m,\u001b[0m \u001b[0mTimeoutError\u001b[0m\u001b[0;34m)\u001b[0m \u001b[0;32mas\u001b[0m \u001b[0me\u001b[0m\u001b[0;34m:\u001b[0m\u001b[0;34m\u001b[0m\u001b[0;34m\u001b[0m\u001b[0m\n\u001b[1;32m    886\u001b[0m             \u001b[0mconn\u001b[0m\u001b[0;34m.\u001b[0m\u001b[0mdisconnect\u001b[0m\u001b[0;34m(\u001b[0m\u001b[0;34m)\u001b[0m\u001b[0;34m\u001b[0m\u001b[0;34m\u001b[0m\u001b[0m\n",
      "\u001b[0;32m~/anaconda/envs/rp/lib/python3.7/site-packages/redis/client.py\u001b[0m in \u001b[0;36mparse_response\u001b[0;34m(self, connection, command_name, **options)\u001b[0m\n\u001b[1;32m    896\u001b[0m         \u001b[0;34m\"Parses a response from the Redis server\"\u001b[0m\u001b[0;34m\u001b[0m\u001b[0;34m\u001b[0m\u001b[0m\n\u001b[1;32m    897\u001b[0m         \u001b[0;32mtry\u001b[0m\u001b[0;34m:\u001b[0m\u001b[0;34m\u001b[0m\u001b[0;34m\u001b[0m\u001b[0m\n\u001b[0;32m--> 898\u001b[0;31m             \u001b[0mresponse\u001b[0m \u001b[0;34m=\u001b[0m \u001b[0mconnection\u001b[0m\u001b[0;34m.\u001b[0m\u001b[0mread_response\u001b[0m\u001b[0;34m(\u001b[0m\u001b[0;34m)\u001b[0m\u001b[0;34m\u001b[0m\u001b[0;34m\u001b[0m\u001b[0m\n\u001b[0m\u001b[1;32m    899\u001b[0m         \u001b[0;32mexcept\u001b[0m \u001b[0mResponseError\u001b[0m\u001b[0;34m:\u001b[0m\u001b[0;34m\u001b[0m\u001b[0;34m\u001b[0m\u001b[0m\n\u001b[1;32m    900\u001b[0m             \u001b[0;32mif\u001b[0m \u001b[0mEMPTY_RESPONSE\u001b[0m \u001b[0;32min\u001b[0m \u001b[0moptions\u001b[0m\u001b[0;34m:\u001b[0m\u001b[0;34m\u001b[0m\u001b[0;34m\u001b[0m\u001b[0m\n",
      "\u001b[0;32m~/anaconda/envs/rp/lib/python3.7/site-packages/redis/connection.py\u001b[0m in \u001b[0;36mread_response\u001b[0;34m(self)\u001b[0m\n\u001b[1;32m    719\u001b[0m         \u001b[0;34m\"Read the response from a previously sent command\"\u001b[0m\u001b[0;34m\u001b[0m\u001b[0;34m\u001b[0m\u001b[0m\n\u001b[1;32m    720\u001b[0m         \u001b[0;32mtry\u001b[0m\u001b[0;34m:\u001b[0m\u001b[0;34m\u001b[0m\u001b[0;34m\u001b[0m\u001b[0m\n\u001b[0;32m--> 721\u001b[0;31m             \u001b[0mresponse\u001b[0m \u001b[0;34m=\u001b[0m \u001b[0mself\u001b[0m\u001b[0;34m.\u001b[0m\u001b[0m_parser\u001b[0m\u001b[0;34m.\u001b[0m\u001b[0mread_response\u001b[0m\u001b[0;34m(\u001b[0m\u001b[0;34m)\u001b[0m\u001b[0;34m\u001b[0m\u001b[0;34m\u001b[0m\u001b[0m\n\u001b[0m\u001b[1;32m    722\u001b[0m         \u001b[0;32mexcept\u001b[0m \u001b[0msocket\u001b[0m\u001b[0;34m.\u001b[0m\u001b[0mtimeout\u001b[0m\u001b[0;34m:\u001b[0m\u001b[0;34m\u001b[0m\u001b[0;34m\u001b[0m\u001b[0m\n\u001b[1;32m    723\u001b[0m             \u001b[0mself\u001b[0m\u001b[0;34m.\u001b[0m\u001b[0mdisconnect\u001b[0m\u001b[0;34m(\u001b[0m\u001b[0;34m)\u001b[0m\u001b[0;34m\u001b[0m\u001b[0;34m\u001b[0m\u001b[0m\n",
      "\u001b[0;32m~/anaconda/envs/rp/lib/python3.7/site-packages/redis/connection.py\u001b[0m in \u001b[0;36mread_response\u001b[0;34m(self)\u001b[0m\n\u001b[1;32m    311\u001b[0m \u001b[0;34m\u001b[0m\u001b[0m\n\u001b[1;32m    312\u001b[0m     \u001b[0;32mdef\u001b[0m \u001b[0mread_response\u001b[0m\u001b[0;34m(\u001b[0m\u001b[0mself\u001b[0m\u001b[0;34m)\u001b[0m\u001b[0;34m:\u001b[0m\u001b[0;34m\u001b[0m\u001b[0;34m\u001b[0m\u001b[0m\n\u001b[0;32m--> 313\u001b[0;31m         \u001b[0mresponse\u001b[0m \u001b[0;34m=\u001b[0m \u001b[0mself\u001b[0m\u001b[0;34m.\u001b[0m\u001b[0m_buffer\u001b[0m\u001b[0;34m.\u001b[0m\u001b[0mreadline\u001b[0m\u001b[0;34m(\u001b[0m\u001b[0;34m)\u001b[0m\u001b[0;34m\u001b[0m\u001b[0;34m\u001b[0m\u001b[0m\n\u001b[0m\u001b[1;32m    314\u001b[0m         \u001b[0;32mif\u001b[0m \u001b[0;32mnot\u001b[0m \u001b[0mresponse\u001b[0m\u001b[0;34m:\u001b[0m\u001b[0;34m\u001b[0m\u001b[0;34m\u001b[0m\u001b[0m\n\u001b[1;32m    315\u001b[0m             \u001b[0;32mraise\u001b[0m \u001b[0mConnectionError\u001b[0m\u001b[0;34m(\u001b[0m\u001b[0mSERVER_CLOSED_CONNECTION_ERROR\u001b[0m\u001b[0;34m)\u001b[0m\u001b[0;34m\u001b[0m\u001b[0;34m\u001b[0m\u001b[0m\n",
      "\u001b[0;32m~/anaconda/envs/rp/lib/python3.7/site-packages/redis/connection.py\u001b[0m in \u001b[0;36mreadline\u001b[0;34m(self)\u001b[0m\n\u001b[1;32m    243\u001b[0m         \u001b[0;32mwhile\u001b[0m \u001b[0;32mnot\u001b[0m \u001b[0mdata\u001b[0m\u001b[0;34m.\u001b[0m\u001b[0mendswith\u001b[0m\u001b[0;34m(\u001b[0m\u001b[0mSYM_CRLF\u001b[0m\u001b[0;34m)\u001b[0m\u001b[0;34m:\u001b[0m\u001b[0;34m\u001b[0m\u001b[0;34m\u001b[0m\u001b[0m\n\u001b[1;32m    244\u001b[0m             \u001b[0;31m# there's more data in the socket that we need\u001b[0m\u001b[0;34m\u001b[0m\u001b[0;34m\u001b[0m\u001b[0;34m\u001b[0m\u001b[0m\n\u001b[0;32m--> 245\u001b[0;31m             \u001b[0mself\u001b[0m\u001b[0;34m.\u001b[0m\u001b[0m_read_from_socket\u001b[0m\u001b[0;34m(\u001b[0m\u001b[0;34m)\u001b[0m\u001b[0;34m\u001b[0m\u001b[0;34m\u001b[0m\u001b[0m\n\u001b[0m\u001b[1;32m    246\u001b[0m             \u001b[0mbuf\u001b[0m\u001b[0;34m.\u001b[0m\u001b[0mseek\u001b[0m\u001b[0;34m(\u001b[0m\u001b[0mself\u001b[0m\u001b[0;34m.\u001b[0m\u001b[0mbytes_read\u001b[0m\u001b[0;34m)\u001b[0m\u001b[0;34m\u001b[0m\u001b[0;34m\u001b[0m\u001b[0m\n\u001b[1;32m    247\u001b[0m             \u001b[0mdata\u001b[0m \u001b[0;34m=\u001b[0m \u001b[0mbuf\u001b[0m\u001b[0;34m.\u001b[0m\u001b[0mreadline\u001b[0m\u001b[0;34m(\u001b[0m\u001b[0;34m)\u001b[0m\u001b[0;34m\u001b[0m\u001b[0;34m\u001b[0m\u001b[0m\n",
      "\u001b[0;32m~/anaconda/envs/rp/lib/python3.7/site-packages/redis/connection.py\u001b[0m in \u001b[0;36m_read_from_socket\u001b[0;34m(self, length, timeout, raise_on_timeout)\u001b[0m\n\u001b[1;32m    185\u001b[0m                 \u001b[0msock\u001b[0m\u001b[0;34m.\u001b[0m\u001b[0msettimeout\u001b[0m\u001b[0;34m(\u001b[0m\u001b[0mtimeout\u001b[0m\u001b[0;34m)\u001b[0m\u001b[0;34m\u001b[0m\u001b[0;34m\u001b[0m\u001b[0m\n\u001b[1;32m    186\u001b[0m             \u001b[0;32mwhile\u001b[0m \u001b[0;32mTrue\u001b[0m\u001b[0;34m:\u001b[0m\u001b[0;34m\u001b[0m\u001b[0;34m\u001b[0m\u001b[0m\n\u001b[0;32m--> 187\u001b[0;31m                 \u001b[0mdata\u001b[0m \u001b[0;34m=\u001b[0m \u001b[0mrecv\u001b[0m\u001b[0;34m(\u001b[0m\u001b[0mself\u001b[0m\u001b[0;34m.\u001b[0m\u001b[0m_sock\u001b[0m\u001b[0;34m,\u001b[0m \u001b[0msocket_read_size\u001b[0m\u001b[0;34m)\u001b[0m\u001b[0;34m\u001b[0m\u001b[0;34m\u001b[0m\u001b[0m\n\u001b[0m\u001b[1;32m    188\u001b[0m                 \u001b[0;31m# an empty string indicates the server shutdown the socket\u001b[0m\u001b[0;34m\u001b[0m\u001b[0;34m\u001b[0m\u001b[0;34m\u001b[0m\u001b[0m\n\u001b[1;32m    189\u001b[0m                 \u001b[0;32mif\u001b[0m \u001b[0misinstance\u001b[0m\u001b[0;34m(\u001b[0m\u001b[0mdata\u001b[0m\u001b[0;34m,\u001b[0m \u001b[0mbytes\u001b[0m\u001b[0;34m)\u001b[0m \u001b[0;32mand\u001b[0m \u001b[0mlen\u001b[0m\u001b[0;34m(\u001b[0m\u001b[0mdata\u001b[0m\u001b[0;34m)\u001b[0m \u001b[0;34m==\u001b[0m \u001b[0;36m0\u001b[0m\u001b[0;34m:\u001b[0m\u001b[0;34m\u001b[0m\u001b[0;34m\u001b[0m\u001b[0m\n",
      "\u001b[0;32m~/anaconda/envs/rp/lib/python3.7/site-packages/redis/_compat.py\u001b[0m in \u001b[0;36mrecv\u001b[0;34m(sock, *args, **kwargs)\u001b[0m\n\u001b[1;32m     69\u001b[0m \u001b[0;32melse\u001b[0m\u001b[0;34m:\u001b[0m  \u001b[0;31m# Python 3.5 and above automatically retry EINTR\u001b[0m\u001b[0;34m\u001b[0m\u001b[0;34m\u001b[0m\u001b[0m\n\u001b[1;32m     70\u001b[0m     \u001b[0;32mdef\u001b[0m \u001b[0mrecv\u001b[0m\u001b[0;34m(\u001b[0m\u001b[0msock\u001b[0m\u001b[0;34m,\u001b[0m \u001b[0;34m*\u001b[0m\u001b[0margs\u001b[0m\u001b[0;34m,\u001b[0m \u001b[0;34m**\u001b[0m\u001b[0mkwargs\u001b[0m\u001b[0;34m)\u001b[0m\u001b[0;34m:\u001b[0m\u001b[0;34m\u001b[0m\u001b[0;34m\u001b[0m\u001b[0m\n\u001b[0;32m---> 71\u001b[0;31m         \u001b[0;32mreturn\u001b[0m \u001b[0msock\u001b[0m\u001b[0;34m.\u001b[0m\u001b[0mrecv\u001b[0m\u001b[0;34m(\u001b[0m\u001b[0;34m*\u001b[0m\u001b[0margs\u001b[0m\u001b[0;34m,\u001b[0m \u001b[0;34m**\u001b[0m\u001b[0mkwargs\u001b[0m\u001b[0;34m)\u001b[0m\u001b[0;34m\u001b[0m\u001b[0;34m\u001b[0m\u001b[0m\n\u001b[0m\u001b[1;32m     72\u001b[0m \u001b[0;34m\u001b[0m\u001b[0m\n\u001b[1;32m     73\u001b[0m     \u001b[0;32mdef\u001b[0m \u001b[0mrecv_into\u001b[0m\u001b[0;34m(\u001b[0m\u001b[0msock\u001b[0m\u001b[0;34m,\u001b[0m \u001b[0;34m*\u001b[0m\u001b[0margs\u001b[0m\u001b[0;34m,\u001b[0m \u001b[0;34m**\u001b[0m\u001b[0mkwargs\u001b[0m\u001b[0;34m)\u001b[0m\u001b[0;34m:\u001b[0m\u001b[0;34m\u001b[0m\u001b[0;34m\u001b[0m\u001b[0m\n",
      "\u001b[0;31mKeyboardInterrupt\u001b[0m: "
     ]
    }
   ],
   "source": [
    "import datetime\n",
    "import ipaddress\n",
    "\n",
    "import redis\n",
    "\n",
    "\n",
    "# where we put all the bad egg IP addresses\n",
    "blacklist = set()\n",
    "MAXVISITS = 15\n",
    "\n",
    "\n",
    "ipwatcher = redis.Redis(host='127.0.0.1', port='6379', db=5)\n",
    "\n",
    "\n",
    "while True:\n",
    "    _, addr = ipwatcher.blpop(\"ips\")\n",
    "    addr = ipaddress.ip_address(addr.decode(\"utf-8\"))\n",
    "    now = datetime.datetime.utcnow()\n",
    "    addrts = f\"{addr}:{now.minute}\"\n",
    "    n = ipwatcher.incrby(addrts, 1)\n",
    "    if n >= MAXVISITS:\n",
    "        print(f\"Hat bot detected!: {addr}\")\n",
    "        blacklist.add(addr)\n",
    "    else:\n",
    "        print(f\"{now}: saw {addr}\")\n",
    "        _ = ipwatcher.expire(addrts, 60)"
   ]
  },
  {
   "cell_type": "code",
   "execution_count": 28,
   "metadata": {},
   "outputs": [
    {
     "data": {
      "text/plain": [
       "datetime.datetime(2020, 2, 3, 12, 57, 16)"
      ]
     },
     "execution_count": 28,
     "metadata": {},
     "output_type": "execute_result"
    }
   ],
   "source": [
    "r.lastsave()"
   ]
  },
  {
   "cell_type": "code",
   "execution_count": 30,
   "metadata": {},
   "outputs": [],
   "source": [
    "restaurant_484272 = {\n",
    "    \"name\": \"Ravagh\",\n",
    "    \"type\": \"Persian\",\n",
    "    \"address\": {\n",
    "        \"street\": {\n",
    "            \"line1\": \"11 E 30th St\",\n",
    "            \"line2\": \"APT 1\",\n",
    "        },\n",
    "        \"city\": \"New York\",\n",
    "        \"state\": \"NY\",\n",
    "        \"zip\": 10016\n",
    "    }\n",
    "}"
   ]
  },
  {
   "cell_type": "code",
   "execution_count": 31,
   "metadata": {},
   "outputs": [],
   "source": [
    "import json"
   ]
  },
  {
   "cell_type": "code",
   "execution_count": 32,
   "metadata": {},
   "outputs": [
    {
     "data": {
      "text/plain": [
       "True"
      ]
     },
     "execution_count": 32,
     "metadata": {},
     "output_type": "execute_result"
    }
   ],
   "source": [
    "r.set(484272, json.dumps(restaurant_484272))"
   ]
  },
  {
   "cell_type": "code",
   "execution_count": 33,
   "metadata": {},
   "outputs": [
    {
     "data": {
      "text/plain": [
       "b'{\"name\": \"Ravagh\", \"type\": \"Persian\", \"address\": {\"street\": {\"line1\": \"11 E 30th St\", \"line2\": \"APT 1\"}, \"city\": \"New York\", \"state\": \"NY\", \"zip\": 10016}}'"
      ]
     },
     "execution_count": 33,
     "metadata": {},
     "output_type": "execute_result"
    }
   ],
   "source": [
    "r.get(484272)"
   ]
  },
  {
   "cell_type": "code",
   "execution_count": 34,
   "metadata": {},
   "outputs": [],
   "source": [
    "from pprint import pprint"
   ]
  },
  {
   "cell_type": "code",
   "execution_count": 35,
   "metadata": {},
   "outputs": [
    {
     "name": "stdout",
     "output_type": "stream",
     "text": [
      "{'address': {'city': 'New York',\n",
      "             'state': 'NY',\n",
      "             'street': {'line1': '11 E 30th St', 'line2': 'APT 1'},\n",
      "             'zip': 10016},\n",
      " 'name': 'Ravagh',\n",
      " 'type': 'Persian'}\n"
     ]
    }
   ],
   "source": [
    "pprint(json.loads(r.get(484272)))"
   ]
  },
  {
   "cell_type": "code",
   "execution_count": 36,
   "metadata": {},
   "outputs": [],
   "source": [
    "from collections.abc import MutableMapping"
   ]
  },
  {
   "cell_type": "code",
   "execution_count": 38,
   "metadata": {},
   "outputs": [],
   "source": [
    "def setflat_skeys(r: redis.Redis, obj: dict, prefix: str, delim: str=\":\", *, _autopfix=\"\") -> None:\n",
    "    \"\"\"Flatten 'obj' and set resulting field-value pairs into 'r'\n",
    "    Calls `.set()` to write Redis instance inplace and returns None.\n",
    "    \n",
    "    `prefix` is an optional str that prefixes all keys.\n",
    "    `delim` is the delimiter the separates the joined, flattened keys.\n",
    "    `_autopfix` s used in recursive calls to create de-nested keys.\n",
    "    \n",
    "    The deepest-nested keys must be str, bytes, float, or int.\n",
    "    Otherwise TypeError is raised.\n",
    "    \"\"\"\n",
    "    allowed_vtypes = (str, bytes, float, int)\n",
    "    for key, value in obj.items():\n",
    "        key = _autopfix + key\n",
    "        if isinstance(value, allowed_vtypes):\n",
    "            r.set(f\"{prefix}{delim}{key}\", value)\n",
    "        elif isinstance(value, MutableMapping):\n",
    "            setflat_skeys(\n",
    "                r, value, prefix, delim, _autopfix=f\"{key}{delim}\"\n",
    "            )\n",
    "        else:\n",
    "            raise TypeError(f\"Unsupported value type: {type(value)}\")\n",
    "    \n",
    "    "
   ]
  },
  {
   "cell_type": "code",
   "execution_count": 40,
   "metadata": {},
   "outputs": [
    {
     "name": "stdout",
     "output_type": "stream",
     "text": [
      "Collecting cryptography\n",
      "\u001b[?25l  Downloading https://files.pythonhosted.org/packages/6b/4a/ce93178469d4460d6b3a5e648fc1a2f426030f3d30a12d7ed4df73d044de/cryptography-2.8-cp34-abi3-macosx_10_6_intel.whl (1.6MB)\n",
      "\u001b[K     |████████████████████████████████| 1.6MB 2.3MB/s eta 0:00:01\n",
      "\u001b[?25hRequirement already satisfied: six>=1.4.1 in /Users/ChrisBarnes/anaconda/envs/rp/lib/python3.7/site-packages (from cryptography) (1.14.0)\n",
      "Collecting cffi!=1.11.3,>=1.8\n",
      "\u001b[?25l  Downloading https://files.pythonhosted.org/packages/d5/61/32b1aa5ef1bf60be4ef679c4aae082a7ceef98517e0e0fde68072c6ef8b6/cffi-1.13.2-cp37-cp37m-macosx_10_6_intel.whl (258kB)\n",
      "\u001b[K     |████████████████████████████████| 266kB 25.0MB/s eta 0:00:01\n",
      "\u001b[?25hCollecting pycparser\n",
      "\u001b[?25l  Downloading https://files.pythonhosted.org/packages/68/9e/49196946aee219aead1290e00d1e7fdeab8567783e83e1b9ab5585e6206a/pycparser-2.19.tar.gz (158kB)\n",
      "\u001b[K     |████████████████████████████████| 163kB 5.6MB/s eta 0:00:01\n",
      "\u001b[?25hBuilding wheels for collected packages: pycparser\n",
      "  Building wheel for pycparser (setup.py) ... \u001b[?25ldone\n",
      "\u001b[?25h  Created wheel for pycparser: filename=pycparser-2.19-py2.py3-none-any.whl size=111029 sha256=974e3fcf154e984af8220eff099a885c5fba5e478684077609b4bddad8e676a6\n",
      "  Stored in directory: /Users/ChrisBarnes/Library/Caches/pip/wheels/f2/9a/90/de94f8556265ddc9d9c8b271b0f63e57b26fb1d67a45564511\n",
      "Successfully built pycparser\n",
      "Installing collected packages: pycparser, cffi, cryptography\n",
      "Successfully installed cffi-1.13.2 cryptography-2.8 pycparser-2.19\n"
     ]
    }
   ],
   "source": [
    "!pip install cryptography"
   ]
  },
  {
   "cell_type": "code",
   "execution_count": 41,
   "metadata": {},
   "outputs": [],
   "source": [
    "import json\n",
    "from cryptography.fernet import Fernet\n",
    "\n",
    "cipher = Fernet(Fernet.generate_key())\n",
    "info = {\n",
    "    \"cardnum\": 2211849528391929,\n",
    "    \"exp\": [2020, 9],\n",
    "    \"cv2\": 842,\n",
    "}"
   ]
  },
  {
   "cell_type": "code",
   "execution_count": 43,
   "metadata": {},
   "outputs": [
    {
     "data": {
      "text/plain": [
       "True"
      ]
     },
     "execution_count": 43,
     "metadata": {},
     "output_type": "execute_result"
    }
   ],
   "source": [
    "r.set(\"user:1000\", cipher.encrypt(json.dumps(info).encode(\"utf-8\")))"
   ]
  },
  {
   "cell_type": "code",
   "execution_count": 44,
   "metadata": {},
   "outputs": [
    {
     "data": {
      "text/plain": [
       "b'gAAAAABeOHyoX1DPTdzofE-BSuEHTClrxDILQkXA9erHm64KX8rdMBjZgTwi6337l2HKZHpyE4Ww0h2hhyW5j0cp7BoTXBkBtjBN1CPRj5k4aW3qDWS_acIfCazP3Ex7zTkkZqVnvJL0WRDA2UN8RnUCVTiog_hWBg=='"
      ]
     },
     "execution_count": 44,
     "metadata": {},
     "output_type": "execute_result"
    }
   ],
   "source": [
    "r.get(\"user:1000\")"
   ]
  },
  {
   "cell_type": "code",
   "execution_count": 46,
   "metadata": {},
   "outputs": [
    {
     "data": {
      "text/plain": [
       "b'{\"cardnum\": 2211849528391929, \"exp\": [2020, 9], \"cv2\": 842}'"
      ]
     },
     "execution_count": 46,
     "metadata": {},
     "output_type": "execute_result"
    }
   ],
   "source": [
    "cipher.decrypt(r.get(\"user:1000\"))"
   ]
  },
  {
   "cell_type": "code",
   "execution_count": 48,
   "metadata": {},
   "outputs": [
    {
     "data": {
      "text/plain": [
       "{'cardnum': 2211849528391929, 'exp': [2020, 9], 'cv2': 842}"
      ]
     },
     "execution_count": 48,
     "metadata": {},
     "output_type": "execute_result"
    }
   ],
   "source": [
    "json.loads(cipher.decrypt(r.get(\"user:1000\")))"
   ]
  },
  {
   "cell_type": "code",
   "execution_count": 50,
   "metadata": {},
   "outputs": [
    {
     "data": {
      "text/plain": [
       "26000"
      ]
     },
     "execution_count": 50,
     "metadata": {},
     "output_type": "execute_result"
    }
   ],
   "source": [
    "import bz2\n",
    "\n",
    "blob = \"I have a lot to talk about\" * 1000\n",
    "len(blob.encode('utf-8'))"
   ]
  },
  {
   "cell_type": "code",
   "execution_count": 51,
   "metadata": {},
   "outputs": [
    {
     "data": {
      "text/plain": [
       "True"
      ]
     },
     "execution_count": 51,
     "metadata": {},
     "output_type": "execute_result"
    }
   ],
   "source": [
    "r.set(\"msg:500\", bz2.compress(blob.encode(\"utf-8\")))"
   ]
  },
  {
   "cell_type": "code",
   "execution_count": 52,
   "metadata": {},
   "outputs": [
    {
     "data": {
      "text/plain": [
       "b'BZh91AY&SY\\xc5[z\\x19\\x00\\r\\xab\\x95\\x80@\\x00\\x00 2L\\x87\\x000\\x00\\xb0\\x104\\r\\x015Ta\\x00@\\xd043R\\r\\xd4\\x83\\x15 \\xcdH;\\xa9\\x07\\x95H7T\\x83\\x8a\\x90wR\\x0c\\xd4\\x83\\xea\\x90f\\xa4\\x1e\\xd4\\x83\\x15 \\xe6\\xa4\\x1a\\xa9\\x06*A\\xedH:\\xa9\\x07\\xd5 \\xd5R\\x0ejA\\xba\\x90~.\\xe4\\x8ap\\xa1!\\x8a\\xb6\\xf42'"
      ]
     },
     "execution_count": 52,
     "metadata": {},
     "output_type": "execute_result"
    }
   ],
   "source": [
    "r.get(\"msg:500\")"
   ]
  },
  {
   "cell_type": "code",
   "execution_count": 53,
   "metadata": {},
   "outputs": [
    {
     "data": {
      "text/plain": [
       "106"
      ]
     },
     "execution_count": 53,
     "metadata": {},
     "output_type": "execute_result"
    }
   ],
   "source": [
    "len(r.get(\"msg:500\"))"
   ]
  },
  {
   "cell_type": "code",
   "execution_count": 54,
   "metadata": {},
   "outputs": [],
   "source": [
    "rblob = bz2.decompress(r.get(\"msg:500\")).decode(\"utf-8\")"
   ]
  },
  {
   "cell_type": "code",
   "execution_count": 55,
   "metadata": {},
   "outputs": [
    {
     "data": {
      "text/plain": [
       "'I have a lot to talk aboutI have a lot to talk aboutI have a lot to talk aboutI have a lot to talk aboutI have a lot to talk aboutI have a lot to talk aboutI have a lot to talk aboutI have a lot to talk aboutI have a lot to talk aboutI have a lot to talk aboutI have a lot to talk aboutI have a lot to talk aboutI have a lot to talk aboutI have a lot to talk aboutI have a lot to talk aboutI have a lot to talk aboutI have a lot to talk aboutI have a lot to talk aboutI have a lot to talk aboutI have a lot to talk aboutI have a lot to talk aboutI have a lot to talk aboutI have a lot to talk aboutI have a lot to talk aboutI have a lot to talk aboutI have a lot to talk aboutI have a lot to talk aboutI have a lot to talk aboutI have a lot to talk aboutI have a lot to talk aboutI have a lot to talk aboutI have a lot to talk aboutI have a lot to talk aboutI have a lot to talk aboutI have a lot to talk aboutI have a lot to talk aboutI have a lot to talk aboutI have a lot to talk aboutI have a lot to talk aboutI have a lot to talk aboutI have a lot to talk aboutI have a lot to talk aboutI have a lot to talk aboutI have a lot to talk aboutI have a lot to talk aboutI have a lot to talk aboutI have a lot to talk aboutI have a lot to talk aboutI have a lot to talk aboutI have a lot to talk aboutI have a lot to talk aboutI have a lot to talk aboutI have a lot to talk aboutI have a lot to talk aboutI have a lot to talk aboutI have a lot to talk aboutI have a lot to talk aboutI have a lot to talk aboutI have a lot to talk aboutI have a lot to talk aboutI have a lot to talk aboutI have a lot to talk aboutI have a lot to talk aboutI have a lot to talk aboutI have a lot to talk aboutI have a lot to talk aboutI have a lot to talk aboutI have a lot to talk aboutI have a lot to talk aboutI have a lot to talk aboutI have a lot to talk aboutI have a lot to talk aboutI have a lot to talk aboutI have a lot to talk aboutI have a lot to talk aboutI have a lot to talk aboutI have a lot to talk aboutI have a lot to talk aboutI have a lot to talk aboutI have a lot to talk aboutI have a lot to talk aboutI have a lot to talk aboutI have a lot to talk aboutI have a lot to talk aboutI have a lot to talk aboutI have a lot to talk aboutI have a lot to talk aboutI have a lot to talk aboutI have a lot to talk aboutI have a lot to talk aboutI have a lot to talk aboutI have a lot to talk aboutI have a lot to talk aboutI have a lot to talk aboutI have a lot to talk aboutI have a lot to talk aboutI have a lot to talk aboutI have a lot to talk aboutI have a lot to talk aboutI have a lot to talk aboutI have a lot to talk aboutI have a lot to talk aboutI have a lot to talk aboutI have a lot to talk aboutI have a lot to talk aboutI have a lot to talk aboutI have a lot to talk aboutI have a lot to talk aboutI have a lot to talk aboutI have a lot to talk aboutI have a lot to talk aboutI have a lot to talk aboutI have a lot to talk aboutI have a lot to talk aboutI have a lot to talk aboutI have a lot to talk aboutI have a lot to talk aboutI have a lot to talk aboutI have a lot to talk aboutI have a lot to talk aboutI have a lot to talk aboutI have a lot to talk aboutI have a lot to talk aboutI have a lot to talk aboutI have a lot to talk aboutI have a lot to talk aboutI have a lot to talk aboutI have a lot to talk aboutI have a lot to talk aboutI have a lot to talk aboutI have a lot to talk aboutI have a lot to talk aboutI have a lot to talk aboutI have a lot to talk aboutI have a lot to talk aboutI have a lot to talk aboutI have a lot to talk aboutI have a lot to talk aboutI have a lot to talk aboutI have a lot to talk aboutI have a lot to talk aboutI have a lot to talk aboutI have a lot to talk aboutI have a lot to talk aboutI have a lot to talk aboutI have a lot to talk aboutI have a lot to talk aboutI have a lot to talk aboutI have a lot to talk aboutI have a lot to talk aboutI have a lot to talk aboutI have a lot to talk aboutI have a lot to talk aboutI have a lot to talk aboutI have a lot to talk aboutI have a lot to talk aboutI have a lot to talk aboutI have a lot to talk aboutI have a lot to talk aboutI have a lot to talk aboutI have a lot to talk aboutI have a lot to talk aboutI have a lot to talk aboutI have a lot to talk aboutI have a lot to talk aboutI have a lot to talk aboutI have a lot to talk aboutI have a lot to talk aboutI have a lot to talk aboutI have a lot to talk aboutI have a lot to talk aboutI have a lot to talk aboutI have a lot to talk aboutI have a lot to talk aboutI have a lot to talk aboutI have a lot to talk aboutI have a lot to talk aboutI have a lot to talk aboutI have a lot to talk aboutI have a lot to talk aboutI have a lot to talk aboutI have a lot to talk aboutI have a lot to talk aboutI have a lot to talk aboutI have a lot to talk aboutI have a lot to talk aboutI have a lot to talk aboutI have a lot to talk aboutI have a lot to talk aboutI have a lot to talk aboutI have a lot to talk aboutI have a lot to talk aboutI have a lot to talk aboutI have a lot to talk aboutI have a lot to talk aboutI have a lot to talk aboutI have a lot to talk aboutI have a lot to talk aboutI have a lot to talk aboutI have a lot to talk aboutI have a lot to talk aboutI have a lot to talk aboutI have a lot to talk aboutI have a lot to talk aboutI have a lot to talk aboutI have a lot to talk aboutI have a lot to talk aboutI have a lot to talk aboutI have a lot to talk aboutI have a lot to talk aboutI have a lot to talk aboutI have a lot to talk aboutI have a lot to talk aboutI have a lot to talk aboutI have a lot to talk aboutI have a lot to talk aboutI have a lot to talk aboutI have a lot to talk aboutI have a lot to talk aboutI have a lot to talk aboutI have a lot to talk aboutI have a lot to talk aboutI have a lot to talk aboutI have a lot to talk aboutI have a lot to talk aboutI have a lot to talk aboutI have a lot to talk aboutI have a lot to talk aboutI have a lot to talk aboutI have a lot to talk aboutI have a lot to talk aboutI have a lot to talk aboutI have a lot to talk aboutI have a lot to talk aboutI have a lot to talk aboutI have a lot to talk aboutI have a lot to talk aboutI have a lot to talk aboutI have a lot to talk aboutI have a lot to talk aboutI have a lot to talk aboutI have a lot to talk aboutI have a lot to talk aboutI have a lot to talk aboutI have a lot to talk aboutI have a lot to talk aboutI have a lot to talk aboutI have a lot to talk aboutI have a lot to talk aboutI have a lot to talk aboutI have a lot to talk aboutI have a lot to talk aboutI have a lot to talk aboutI have a lot to talk aboutI have a lot to talk aboutI have a lot to talk aboutI have a lot to talk aboutI have a lot to talk aboutI have a lot to talk aboutI have a lot to talk aboutI have a lot to talk aboutI have a lot to talk aboutI have a lot to talk aboutI have a lot to talk aboutI have a lot to talk aboutI have a lot to talk aboutI have a lot to talk aboutI have a lot to talk aboutI have a lot to talk aboutI have a lot to talk aboutI have a lot to talk aboutI have a lot to talk aboutI have a lot to talk aboutI have a lot to talk aboutI have a lot to talk aboutI have a lot to talk aboutI have a lot to talk aboutI have a lot to talk aboutI have a lot to talk aboutI have a lot to talk aboutI have a lot to talk aboutI have a lot to talk aboutI have a lot to talk aboutI have a lot to talk aboutI have a lot to talk aboutI have a lot to talk aboutI have a lot to talk aboutI have a lot to talk aboutI have a lot to talk aboutI have a lot to talk aboutI have a lot to talk aboutI have a lot to talk aboutI have a lot to talk aboutI have a lot to talk aboutI have a lot to talk aboutI have a lot to talk aboutI have a lot to talk aboutI have a lot to talk aboutI have a lot to talk aboutI have a lot to talk aboutI have a lot to talk aboutI have a lot to talk aboutI have a lot to talk aboutI have a lot to talk aboutI have a lot to talk aboutI have a lot to talk aboutI have a lot to talk aboutI have a lot to talk aboutI have a lot to talk aboutI have a lot to talk aboutI have a lot to talk aboutI have a lot to talk aboutI have a lot to talk aboutI have a lot to talk aboutI have a lot to talk aboutI have a lot to talk aboutI have a lot to talk aboutI have a lot to talk aboutI have a lot to talk aboutI have a lot to talk aboutI have a lot to talk aboutI have a lot to talk aboutI have a lot to talk aboutI have a lot to talk aboutI have a lot to talk aboutI have a lot to talk aboutI have a lot to talk aboutI have a lot to talk aboutI have a lot to talk aboutI have a lot to talk aboutI have a lot to talk aboutI have a lot to talk aboutI have a lot to talk aboutI have a lot to talk aboutI have a lot to talk aboutI have a lot to talk aboutI have a lot to talk aboutI have a lot to talk aboutI have a lot to talk aboutI have a lot to talk aboutI have a lot to talk aboutI have a lot to talk aboutI have a lot to talk aboutI have a lot to talk aboutI have a lot to talk aboutI have a lot to talk aboutI have a lot to talk aboutI have a lot to talk aboutI have a lot to talk aboutI have a lot to talk aboutI have a lot to talk aboutI have a lot to talk aboutI have a lot to talk aboutI have a lot to talk aboutI have a lot to talk aboutI have a lot to talk aboutI have a lot to talk aboutI have a lot to talk aboutI have a lot to talk aboutI have a lot to talk aboutI have a lot to talk aboutI have a lot to talk aboutI have a lot to talk aboutI have a lot to talk aboutI have a lot to talk aboutI have a lot to talk aboutI have a lot to talk aboutI have a lot to talk aboutI have a lot to talk aboutI have a lot to talk aboutI have a lot to talk aboutI have a lot to talk aboutI have a lot to talk aboutI have a lot to talk aboutI have a lot to talk aboutI have a lot to talk aboutI have a lot to talk aboutI have a lot to talk aboutI have a lot to talk aboutI have a lot to talk aboutI have a lot to talk aboutI have a lot to talk aboutI have a lot to talk aboutI have a lot to talk aboutI have a lot to talk aboutI have a lot to talk aboutI have a lot to talk aboutI have a lot to talk aboutI have a lot to talk aboutI have a lot to talk aboutI have a lot to talk aboutI have a lot to talk aboutI have a lot to talk aboutI have a lot to talk aboutI have a lot to talk aboutI have a lot to talk aboutI have a lot to talk aboutI have a lot to talk aboutI have a lot to talk aboutI have a lot to talk aboutI have a lot to talk aboutI have a lot to talk aboutI have a lot to talk aboutI have a lot to talk aboutI have a lot to talk aboutI have a lot to talk aboutI have a lot to talk aboutI have a lot to talk aboutI have a lot to talk aboutI have a lot to talk aboutI have a lot to talk aboutI have a lot to talk aboutI have a lot to talk aboutI have a lot to talk aboutI have a lot to talk aboutI have a lot to talk aboutI have a lot to talk aboutI have a lot to talk aboutI have a lot to talk aboutI have a lot to talk aboutI have a lot to talk aboutI have a lot to talk aboutI have a lot to talk aboutI have a lot to talk aboutI have a lot to talk aboutI have a lot to talk aboutI have a lot to talk aboutI have a lot to talk aboutI have a lot to talk aboutI have a lot to talk aboutI have a lot to talk aboutI have a lot to talk aboutI have a lot to talk aboutI have a lot to talk aboutI have a lot to talk aboutI have a lot to talk aboutI have a lot to talk aboutI have a lot to talk aboutI have a lot to talk aboutI have a lot to talk aboutI have a lot to talk aboutI have a lot to talk aboutI have a lot to talk aboutI have a lot to talk aboutI have a lot to talk aboutI have a lot to talk aboutI have a lot to talk aboutI have a lot to talk aboutI have a lot to talk aboutI have a lot to talk aboutI have a lot to talk aboutI have a lot to talk aboutI have a lot to talk aboutI have a lot to talk aboutI have a lot to talk aboutI have a lot to talk aboutI have a lot to talk aboutI have a lot to talk aboutI have a lot to talk aboutI have a lot to talk aboutI have a lot to talk aboutI have a lot to talk aboutI have a lot to talk aboutI have a lot to talk aboutI have a lot to talk aboutI have a lot to talk aboutI have a lot to talk aboutI have a lot to talk aboutI have a lot to talk aboutI have a lot to talk aboutI have a lot to talk aboutI have a lot to talk aboutI have a lot to talk aboutI have a lot to talk aboutI have a lot to talk aboutI have a lot to talk aboutI have a lot to talk aboutI have a lot to talk aboutI have a lot to talk aboutI have a lot to talk aboutI have a lot to talk aboutI have a lot to talk aboutI have a lot to talk aboutI have a lot to talk aboutI have a lot to talk aboutI have a lot to talk aboutI have a lot to talk aboutI have a lot to talk aboutI have a lot to talk aboutI have a lot to talk aboutI have a lot to talk aboutI have a lot to talk aboutI have a lot to talk aboutI have a lot to talk aboutI have a lot to talk aboutI have a lot to talk aboutI have a lot to talk aboutI have a lot to talk aboutI have a lot to talk aboutI have a lot to talk aboutI have a lot to talk aboutI have a lot to talk aboutI have a lot to talk aboutI have a lot to talk aboutI have a lot to talk aboutI have a lot to talk aboutI have a lot to talk aboutI have a lot to talk aboutI have a lot to talk aboutI have a lot to talk aboutI have a lot to talk aboutI have a lot to talk aboutI have a lot to talk aboutI have a lot to talk aboutI have a lot to talk aboutI have a lot to talk aboutI have a lot to talk aboutI have a lot to talk aboutI have a lot to talk aboutI have a lot to talk aboutI have a lot to talk aboutI have a lot to talk aboutI have a lot to talk aboutI have a lot to talk aboutI have a lot to talk aboutI have a lot to talk aboutI have a lot to talk aboutI have a lot to talk aboutI have a lot to talk aboutI have a lot to talk aboutI have a lot to talk aboutI have a lot to talk aboutI have a lot to talk aboutI have a lot to talk aboutI have a lot to talk aboutI have a lot to talk aboutI have a lot to talk aboutI have a lot to talk aboutI have a lot to talk aboutI have a lot to talk aboutI have a lot to talk aboutI have a lot to talk aboutI have a lot to talk aboutI have a lot to talk aboutI have a lot to talk aboutI have a lot to talk aboutI have a lot to talk aboutI have a lot to talk aboutI have a lot to talk aboutI have a lot to talk aboutI have a lot to talk aboutI have a lot to talk aboutI have a lot to talk aboutI have a lot to talk aboutI have a lot to talk aboutI have a lot to talk aboutI have a lot to talk aboutI have a lot to talk aboutI have a lot to talk aboutI have a lot to talk aboutI have a lot to talk aboutI have a lot to talk aboutI have a lot to talk aboutI have a lot to talk aboutI have a lot to talk aboutI have a lot to talk aboutI have a lot to talk aboutI have a lot to talk aboutI have a lot to talk aboutI have a lot to talk aboutI have a lot to talk aboutI have a lot to talk aboutI have a lot to talk aboutI have a lot to talk aboutI have a lot to talk aboutI have a lot to talk aboutI have a lot to talk aboutI have a lot to talk aboutI have a lot to talk aboutI have a lot to talk aboutI have a lot to talk aboutI have a lot to talk aboutI have a lot to talk aboutI have a lot to talk aboutI have a lot to talk aboutI have a lot to talk aboutI have a lot to talk aboutI have a lot to talk aboutI have a lot to talk aboutI have a lot to talk aboutI have a lot to talk aboutI have a lot to talk aboutI have a lot to talk aboutI have a lot to talk aboutI have a lot to talk aboutI have a lot to talk aboutI have a lot to talk aboutI have a lot to talk aboutI have a lot to talk aboutI have a lot to talk aboutI have a lot to talk aboutI have a lot to talk aboutI have a lot to talk aboutI have a lot to talk aboutI have a lot to talk aboutI have a lot to talk aboutI have a lot to talk aboutI have a lot to talk aboutI have a lot to talk aboutI have a lot to talk aboutI have a lot to talk aboutI have a lot to talk aboutI have a lot to talk aboutI have a lot to talk aboutI have a lot to talk aboutI have a lot to talk aboutI have a lot to talk aboutI have a lot to talk aboutI have a lot to talk aboutI have a lot to talk aboutI have a lot to talk aboutI have a lot to talk aboutI have a lot to talk aboutI have a lot to talk aboutI have a lot to talk aboutI have a lot to talk aboutI have a lot to talk aboutI have a lot to talk aboutI have a lot to talk aboutI have a lot to talk aboutI have a lot to talk aboutI have a lot to talk aboutI have a lot to talk aboutI have a lot to talk aboutI have a lot to talk aboutI have a lot to talk aboutI have a lot to talk aboutI have a lot to talk aboutI have a lot to talk aboutI have a lot to talk aboutI have a lot to talk aboutI have a lot to talk aboutI have a lot to talk aboutI have a lot to talk aboutI have a lot to talk aboutI have a lot to talk aboutI have a lot to talk aboutI have a lot to talk aboutI have a lot to talk aboutI have a lot to talk aboutI have a lot to talk aboutI have a lot to talk aboutI have a lot to talk aboutI have a lot to talk aboutI have a lot to talk aboutI have a lot to talk aboutI have a lot to talk aboutI have a lot to talk aboutI have a lot to talk aboutI have a lot to talk aboutI have a lot to talk aboutI have a lot to talk aboutI have a lot to talk aboutI have a lot to talk aboutI have a lot to talk aboutI have a lot to talk aboutI have a lot to talk aboutI have a lot to talk aboutI have a lot to talk aboutI have a lot to talk aboutI have a lot to talk aboutI have a lot to talk aboutI have a lot to talk aboutI have a lot to talk aboutI have a lot to talk aboutI have a lot to talk aboutI have a lot to talk aboutI have a lot to talk aboutI have a lot to talk aboutI have a lot to talk aboutI have a lot to talk aboutI have a lot to talk aboutI have a lot to talk aboutI have a lot to talk aboutI have a lot to talk aboutI have a lot to talk aboutI have a lot to talk aboutI have a lot to talk aboutI have a lot to talk aboutI have a lot to talk aboutI have a lot to talk aboutI have a lot to talk aboutI have a lot to talk aboutI have a lot to talk aboutI have a lot to talk aboutI have a lot to talk aboutI have a lot to talk aboutI have a lot to talk aboutI have a lot to talk aboutI have a lot to talk aboutI have a lot to talk aboutI have a lot to talk aboutI have a lot to talk aboutI have a lot to talk aboutI have a lot to talk aboutI have a lot to talk aboutI have a lot to talk aboutI have a lot to talk aboutI have a lot to talk aboutI have a lot to talk aboutI have a lot to talk aboutI have a lot to talk aboutI have a lot to talk aboutI have a lot to talk aboutI have a lot to talk aboutI have a lot to talk aboutI have a lot to talk aboutI have a lot to talk aboutI have a lot to talk aboutI have a lot to talk aboutI have a lot to talk aboutI have a lot to talk aboutI have a lot to talk aboutI have a lot to talk aboutI have a lot to talk aboutI have a lot to talk aboutI have a lot to talk aboutI have a lot to talk aboutI have a lot to talk aboutI have a lot to talk aboutI have a lot to talk aboutI have a lot to talk aboutI have a lot to talk aboutI have a lot to talk aboutI have a lot to talk aboutI have a lot to talk aboutI have a lot to talk aboutI have a lot to talk aboutI have a lot to talk aboutI have a lot to talk aboutI have a lot to talk aboutI have a lot to talk aboutI have a lot to talk aboutI have a lot to talk aboutI have a lot to talk aboutI have a lot to talk aboutI have a lot to talk aboutI have a lot to talk aboutI have a lot to talk aboutI have a lot to talk aboutI have a lot to talk aboutI have a lot to talk aboutI have a lot to talk aboutI have a lot to talk aboutI have a lot to talk aboutI have a lot to talk aboutI have a lot to talk aboutI have a lot to talk aboutI have a lot to talk aboutI have a lot to talk aboutI have a lot to talk aboutI have a lot to talk aboutI have a lot to talk aboutI have a lot to talk aboutI have a lot to talk aboutI have a lot to talk aboutI have a lot to talk aboutI have a lot to talk aboutI have a lot to talk aboutI have a lot to talk aboutI have a lot to talk aboutI have a lot to talk aboutI have a lot to talk aboutI have a lot to talk aboutI have a lot to talk aboutI have a lot to talk aboutI have a lot to talk aboutI have a lot to talk aboutI have a lot to talk aboutI have a lot to talk aboutI have a lot to talk aboutI have a lot to talk aboutI have a lot to talk aboutI have a lot to talk aboutI have a lot to talk aboutI have a lot to talk aboutI have a lot to talk aboutI have a lot to talk aboutI have a lot to talk aboutI have a lot to talk aboutI have a lot to talk aboutI have a lot to talk aboutI have a lot to talk aboutI have a lot to talk aboutI have a lot to talk aboutI have a lot to talk aboutI have a lot to talk aboutI have a lot to talk aboutI have a lot to talk aboutI have a lot to talk aboutI have a lot to talk aboutI have a lot to talk aboutI have a lot to talk aboutI have a lot to talk aboutI have a lot to talk aboutI have a lot to talk aboutI have a lot to talk aboutI have a lot to talk aboutI have a lot to talk aboutI have a lot to talk aboutI have a lot to talk aboutI have a lot to talk aboutI have a lot to talk aboutI have a lot to talk aboutI have a lot to talk aboutI have a lot to talk aboutI have a lot to talk aboutI have a lot to talk aboutI have a lot to talk aboutI have a lot to talk aboutI have a lot to talk aboutI have a lot to talk aboutI have a lot to talk aboutI have a lot to talk aboutI have a lot to talk aboutI have a lot to talk aboutI have a lot to talk aboutI have a lot to talk aboutI have a lot to talk aboutI have a lot to talk aboutI have a lot to talk aboutI have a lot to talk aboutI have a lot to talk aboutI have a lot to talk aboutI have a lot to talk aboutI have a lot to talk aboutI have a lot to talk aboutI have a lot to talk aboutI have a lot to talk aboutI have a lot to talk aboutI have a lot to talk aboutI have a lot to talk aboutI have a lot to talk aboutI have a lot to talk aboutI have a lot to talk aboutI have a lot to talk aboutI have a lot to talk aboutI have a lot to talk aboutI have a lot to talk aboutI have a lot to talk aboutI have a lot to talk aboutI have a lot to talk aboutI have a lot to talk aboutI have a lot to talk aboutI have a lot to talk aboutI have a lot to talk aboutI have a lot to talk aboutI have a lot to talk aboutI have a lot to talk aboutI have a lot to talk aboutI have a lot to talk aboutI have a lot to talk aboutI have a lot to talk aboutI have a lot to talk aboutI have a lot to talk aboutI have a lot to talk aboutI have a lot to talk aboutI have a lot to talk aboutI have a lot to talk aboutI have a lot to talk aboutI have a lot to talk aboutI have a lot to talk aboutI have a lot to talk aboutI have a lot to talk aboutI have a lot to talk aboutI have a lot to talk aboutI have a lot to talk aboutI have a lot to talk aboutI have a lot to talk aboutI have a lot to talk aboutI have a lot to talk aboutI have a lot to talk aboutI have a lot to talk aboutI have a lot to talk aboutI have a lot to talk aboutI have a lot to talk aboutI have a lot to talk aboutI have a lot to talk aboutI have a lot to talk aboutI have a lot to talk aboutI have a lot to talk aboutI have a lot to talk aboutI have a lot to talk aboutI have a lot to talk aboutI have a lot to talk aboutI have a lot to talk aboutI have a lot to talk aboutI have a lot to talk aboutI have a lot to talk aboutI have a lot to talk aboutI have a lot to talk aboutI have a lot to talk aboutI have a lot to talk aboutI have a lot to talk aboutI have a lot to talk aboutI have a lot to talk aboutI have a lot to talk aboutI have a lot to talk aboutI have a lot to talk aboutI have a lot to talk aboutI have a lot to talk aboutI have a lot to talk aboutI have a lot to talk aboutI have a lot to talk aboutI have a lot to talk aboutI have a lot to talk aboutI have a lot to talk aboutI have a lot to talk aboutI have a lot to talk aboutI have a lot to talk aboutI have a lot to talk aboutI have a lot to talk aboutI have a lot to talk aboutI have a lot to talk aboutI have a lot to talk aboutI have a lot to talk aboutI have a lot to talk aboutI have a lot to talk aboutI have a lot to talk aboutI have a lot to talk aboutI have a lot to talk aboutI have a lot to talk aboutI have a lot to talk aboutI have a lot to talk aboutI have a lot to talk aboutI have a lot to talk aboutI have a lot to talk aboutI have a lot to talk aboutI have a lot to talk aboutI have a lot to talk aboutI have a lot to talk aboutI have a lot to talk aboutI have a lot to talk aboutI have a lot to talk aboutI have a lot to talk aboutI have a lot to talk aboutI have a lot to talk aboutI have a lot to talk aboutI have a lot to talk aboutI have a lot to talk aboutI have a lot to talk aboutI have a lot to talk aboutI have a lot to talk aboutI have a lot to talk aboutI have a lot to talk aboutI have a lot to talk aboutI have a lot to talk aboutI have a lot to talk aboutI have a lot to talk aboutI have a lot to talk aboutI have a lot to talk aboutI have a lot to talk aboutI have a lot to talk aboutI have a lot to talk aboutI have a lot to talk aboutI have a lot to talk aboutI have a lot to talk aboutI have a lot to talk aboutI have a lot to talk aboutI have a lot to talk aboutI have a lot to talk aboutI have a lot to talk aboutI have a lot to talk aboutI have a lot to talk aboutI have a lot to talk aboutI have a lot to talk aboutI have a lot to talk aboutI have a lot to talk aboutI have a lot to talk aboutI have a lot to talk aboutI have a lot to talk aboutI have a lot to talk aboutI have a lot to talk aboutI have a lot to talk aboutI have a lot to talk aboutI have a lot to talk aboutI have a lot to talk aboutI have a lot to talk aboutI have a lot to talk aboutI have a lot to talk aboutI have a lot to talk aboutI have a lot to talk aboutI have a lot to talk aboutI have a lot to talk aboutI have a lot to talk aboutI have a lot to talk aboutI have a lot to talk aboutI have a lot to talk aboutI have a lot to talk aboutI have a lot to talk about'"
      ]
     },
     "execution_count": 55,
     "metadata": {},
     "output_type": "execute_result"
    }
   ],
   "source": [
    "rblob"
   ]
  },
  {
   "cell_type": "code",
   "execution_count": 56,
   "metadata": {},
   "outputs": [
    {
     "data": {
      "text/plain": [
       "True"
      ]
     },
     "execution_count": 56,
     "metadata": {},
     "output_type": "execute_result"
    }
   ],
   "source": [
    "rblob == blob"
   ]
  },
  {
   "cell_type": "code",
   "execution_count": 57,
   "metadata": {},
   "outputs": [
    {
     "name": "stdout",
     "output_type": "stream",
     "text": [
      "Collecting hiredis\n",
      "  Downloading https://files.pythonhosted.org/packages/4b/80/ce7e811b74aae217aa7f963125e433bab52c1bfda58cf75e4b11a8c04630/hiredis-1.0.1-cp37-cp37m-macosx_10_6_intel.whl\n",
      "Installing collected packages: hiredis\n",
      "Successfully installed hiredis-1.0.1\n"
     ]
    }
   ],
   "source": [
    "!pip install hiredis"
   ]
  },
  {
   "cell_type": "code",
   "execution_count": null,
   "metadata": {},
   "outputs": [],
   "source": []
  }
 ],
 "metadata": {
  "kernelspec": {
   "display_name": "Python [conda env:rp] *",
   "language": "python",
   "name": "conda-env-rp-py"
  },
  "language_info": {
   "codemirror_mode": {
    "name": "ipython",
    "version": 3
   },
   "file_extension": ".py",
   "mimetype": "text/x-python",
   "name": "python",
   "nbconvert_exporter": "python",
   "pygments_lexer": "ipython3",
   "version": "3.7.5"
  }
 },
 "nbformat": 4,
 "nbformat_minor": 4
}
