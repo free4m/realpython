{
 "cells": [
  {
   "cell_type": "code",
   "execution_count": 1,
   "metadata": {},
   "outputs": [],
   "source": [
    "import sqlite3"
   ]
  },
  {
   "cell_type": "code",
   "execution_count": 2,
   "metadata": {},
   "outputs": [],
   "source": [
    "db = sqlite3.connect(':memory:')\n",
    "cur = db.cursor()"
   ]
  },
  {
   "cell_type": "code",
   "execution_count": 4,
   "metadata": {},
   "outputs": [
    {
     "data": {
      "text/plain": [
       "<sqlite3.Cursor at 0x1134de730>"
      ]
     },
     "execution_count": 4,
     "metadata": {},
     "output_type": "execute_result"
    }
   ],
   "source": [
    "cur.execute('''\n",
    "    CREATE TABLE IF NOT EXISTS Customer(\n",
    "        id integer PRIMARY KEY,\n",
    "        firstname varchar(255),\n",
    "        lastname varchar(255))\n",
    "    ''')\n",
    "\n",
    "cur.execute('''\n",
    "    CREATE TABLE IF NOT EXISTS Item (\n",
    "        id integer PRIMARY KEY,\n",
    "        title varchar(255),\n",
    "        price decimal )\n",
    "    ''')\n",
    "\n",
    "cur.execute('''\n",
    "    CREATE TABLE IF NOT EXISTS BoughtItem (\n",
    "        ordernumber integer PRIMARY KEY,\n",
    "        customerid integer,\n",
    "        itemid integer,\n",
    "        price decimal,\n",
    "        CONSTRAINT customerid\n",
    "            FOREIGN KEY (customerid) REFERENCES Customer(id)\n",
    "        CONSTRAINT itemid\n",
    "            FOREIGN KEY (itemid) REFERENCES Item(id))\n",
    "    ''')"
   ]
  },
  {
   "cell_type": "code",
   "execution_count": 6,
   "metadata": {},
   "outputs": [
    {
     "data": {
      "text/plain": [
       "<sqlite3.Cursor at 0x1134de730>"
      ]
     },
     "execution_count": 6,
     "metadata": {},
     "output_type": "execute_result"
    }
   ],
   "source": [
    "cur.execute('''\n",
    "    INSERT INTO Customer(firstname, lastname)\n",
    "    VALUES  ('Bob', 'Adams'),\n",
    "            ('Amy', 'Smith'),\n",
    "            ('Rob', 'Bennet');\n",
    "    ''')\n",
    "\n",
    "cur.execute('''\n",
    "    INSERT INTO Item(title, price)\n",
    "    VALUES  ('USB', 10.2),\n",
    "            ('Mouse', 12.23),\n",
    "            ('Monitor', 199.99);\n",
    "    ''')\n",
    "\n",
    "cur.execute('''\n",
    "    INSERT INTO BoughtItem(customerid, itemid, price)\n",
    "    VALUES  (1, 1, 10.2),\n",
    "            (1, 2, 12.23),\n",
    "            (1, 3, 199.99),\n",
    "            (2, 3, 180.00),\n",
    "            (3, 2, 11.23);\n",
    "    ''')"
   ]
  },
  {
   "cell_type": "code",
   "execution_count": 8,
   "metadata": {},
   "outputs": [
    {
     "name": "stdout",
     "output_type": "stream",
     "text": [
      "[(1, 10.2), (2, 11.73), (3, 189.995)]\n"
     ]
    }
   ],
   "source": [
    "cur.execute('''\n",
    "SELECT \n",
    "    itemid,\n",
    "    AVG(price)\n",
    "    \n",
    "FROM BoughtItem\n",
    "GROUP BY itemid''')\n",
    "print(cur.fetchall())"
   ]
  },
  {
   "cell_type": "code",
   "execution_count": 9,
   "metadata": {},
   "outputs": [
    {
     "name": "stdout",
     "output_type": "stream",
     "text": [
      "[('USB', 10.2), ('Mouse', 11.73), ('Monitor', 189.995)]\n"
     ]
    }
   ],
   "source": [
    "cur.execute('''\n",
    "SELECT \n",
    "    item.title,\n",
    "    AVG(boughtitem.price)\n",
    "    \n",
    "FROM BoughtItem as boughtitem\n",
    "INNER JOIN Item as item ON (item.id = boughtitem.itemid)\n",
    "GROUP BY boughtitem.itemid''')\n",
    "print(cur.fetchall())"
   ]
  },
  {
   "cell_type": "code",
   "execution_count": 12,
   "metadata": {},
   "outputs": [
    {
     "name": "stdout",
     "output_type": "stream",
     "text": [
      "[('Amy', 180), ('Bob', 222.42000000000002), ('Rob', 11.23)]\n"
     ]
    }
   ],
   "source": [
    "cur.execute('''\n",
    "SELECT\n",
    "customer.firstname,\n",
    "SUM(boughtitem.price)\n",
    "\n",
    "FROM BoughtItem as boughtitem\n",
    "INNER JOIN Customer as customer ON (boughtitem.customerid = customer.id)\n",
    "GROUP BY customer.firstname\n",
    "''')\n",
    "print(cur.fetchall())"
   ]
  },
  {
   "cell_type": "code",
   "execution_count": 2,
   "metadata": {},
   "outputs": [],
   "source": [
    "import redis\n",
    "from datetime import timedelta"
   ]
  },
  {
   "cell_type": "code",
   "execution_count": 3,
   "metadata": {},
   "outputs": [],
   "source": [
    "r = redis.Redis()"
   ]
  },
  {
   "cell_type": "code",
   "execution_count": null,
   "metadata": {},
   "outputs": [],
   "source": [
    "def get_name(request, *args, **kwargs):\n",
    "    id = request.get('id')\n",
    "    if id in r:\n",
    "        return r.get(id)\n",
    "    else:\n",
    "        name = 'Bob'\n",
    "        r.setex(id, timedelta(minutes=60), value=name)\n",
    "        return name"
   ]
  },
  {
   "cell_type": "code",
   "execution_count": 12,
   "metadata": {},
   "outputs": [],
   "source": [
    "numbers = [45, 22, 14, 65, 97, 72]"
   ]
  },
  {
   "cell_type": "code",
   "execution_count": 13,
   "metadata": {},
   "outputs": [],
   "source": [
    "for i, num in enumerate(numbers):\n",
    "    if num % 3 == 0 and num % 5 == 0:\n",
    "        numbers[i] = 'fizzbuzz'\n",
    "    elif num % 3 == 0:\n",
    "        numbers[i] = 'fizz'\n",
    "    elif num % 5 == 0:\n",
    "        numbers[i] = 'buzz'"
   ]
  },
  {
   "cell_type": "code",
   "execution_count": 14,
   "metadata": {},
   "outputs": [
    {
     "data": {
      "text/plain": [
       "['fizzbuzz', 22, 14, 'buzz', 97, 'fizz']"
      ]
     },
     "execution_count": 14,
     "metadata": {},
     "output_type": "execute_result"
    }
   ],
   "source": [
    "numbers"
   ]
  },
  {
   "cell_type": "code",
   "execution_count": null,
   "metadata": {},
   "outputs": [],
   "source": []
  }
 ],
 "metadata": {
  "kernelspec": {
   "display_name": "Python [conda env:py3] *",
   "language": "python",
   "name": "conda-env-py3-py"
  },
  "language_info": {
   "codemirror_mode": {
    "name": "ipython",
    "version": 3
   },
   "file_extension": ".py",
   "mimetype": "text/x-python",
   "name": "python",
   "nbconvert_exporter": "python",
   "pygments_lexer": "ipython3",
   "version": "3.7.5"
  }
 },
 "nbformat": 4,
 "nbformat_minor": 2
}
